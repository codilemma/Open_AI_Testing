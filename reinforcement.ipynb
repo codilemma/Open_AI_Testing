{
 "cells": [
  {
   "cell_type": "markdown",
   "source": [
    "# Book Notes for: \n",
    "\n",
    "- https://learning.oreilly.com/library/view/deep-reinforcement-learning/9781484268094/html/502835_1_En_1_Chapter.xhtml\n",
    "\n",
    "# System Set Up\n",
    "1. create virtual venv.  (ai_venv)\n",
    "2. 'pip install tensorflow\n",
    "3. 'conda install pytorch torchvision torchaudio cpuonly -c pytorch'\n",
    "4. 'install -c conda-forge jupyter notebook'\n",
    "6. 'conda install pip'\n",
    "7. 'pip install gym'\n",
    "8. 'conda install -c conda-forge matplotlib'\n",
    "9. 'conda install -c anaconda seaborn'\n",
    "10. 'conda install -c conda-forge tqdm'\n",
    "11. 'sudo snap install cmake --classic'\n",
    "12. 'pip install gym[atari]'\n",
    "13. 'conda install -c conda-forge pybox2d'\n",
    "14. 'pip install pygame'\n",
    "15. 'pip install stable-baselines3'\n",
    "\n",
    "\n",
    "## Links\n",
    "* https://www.tensorflow.org/install\n",
    "* https://pytorch.org/get-started/locally/\n",
    "* https://jupyter.org/install\n",
    "* https://gym.openai.com/docs/%2523installation\n",
    "* https://matplotlib.org/ \n",
    "* https://seaborn.pydata.org/index.html\n",
    "* https://github.com/DLR-RM/stable-baselines3\n",
    "\n",
    "###\n"
   ],
   "metadata": {}
  },
  {
   "cell_type": "code",
   "execution_count": null,
   "source": [],
   "outputs": [],
   "metadata": {}
  }
 ],
 "metadata": {
  "orig_nbformat": 4,
  "language_info": {
   "name": "python"
  }
 },
 "nbformat": 4,
 "nbformat_minor": 2
}